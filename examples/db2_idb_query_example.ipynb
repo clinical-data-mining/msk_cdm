{
 "cells": [
  {
   "cell_type": "markdown",
   "source": [
    "# Query from IDB Demo Notebook\n",
    "\n",
    "\n",
    "This notebook demonstrates how to query data from IDB into a Pandas dataframe using IBM db2 queries\n",
    "\n",
    "Dependencies:\n",
    "`msk_cdm`\n",
    "\n",
    "## Important Files to Load\n",
    "* File path to a `.env` file containing your MSK username and PW. In this example, the `.env` contains `USER` and `PW` as the variables.\n",
    "* The path to `config_ddp_query.txt` file containing `DATABASE`, `HOST`, `PORT`, and `PROTOCOL` variables. All MSK database config info can be found [here](https://github.mskcc.org/datadojo/dbconfig/blob/master/catalog.yml)\n",
    "* The path to the SQL query to execute\n",
    "\n",
    "## Note on Configurations\n",
    "A config file can be created to include connection details for simpler use. The file must include the following, as an example:\n",
    "\n",
    "```\n",
    "DATABASE=BL\n",
    "HOST=idb\n",
    "PORT=50000\n",
    "PROTOCOL=TCPIP\n",
    "```"
   ],
   "metadata": {
    "collapsed": false
   }
  },
  {
   "cell_type": "code",
   "metadata": {
    "collapsed": true,
    "pycharm": {
     "is_executing": true
    },
    "ExecuteTime": {
     "end_time": "2024-10-08T19:06:57.288975Z",
     "start_time": "2024-10-08T19:06:56.083691Z"
    }
   },
   "source": [
    "import os\n",
    "import sys\n",
    "from msk_cdm.data_classes.legacy import CDMProcessingVariables as var\n",
    "from msk_cdm.data_processing import read_db2_api_config\n",
    "from msk_cdm.db2 import db2connection"
   ],
   "outputs": [],
   "execution_count": 1
  },
  {
   "cell_type": "code",
   "execution_count": null,
   "outputs": [],
   "source": [
    "db2_config = 'idb_queries/config_ddp_query.txt'\n",
    "sql_file = 'demographics/demographics.sql'\n"
   ],
   "metadata": {
    "collapsed": false,
    "pycharm": {
     "is_executing": true
    }
   }
  },
  {
   "cell_type": "markdown",
   "source": "## Query Data\n",
   "metadata": {
    "collapsed": false
   }
  },
  {
   "cell_type": "markdown",
   "source": [
    "### Load Your DB2 Configuration File"
   ],
   "metadata": {
    "collapsed": false
   }
  },
  {
   "cell_type": "code",
   "execution_count": null,
   "outputs": [],
   "source": [
    "config = read_db2_api_config(fname_env=db2_config)\n",
    "database = config['DATABASE']\n",
    "host = config['HOST']\n",
    "port = config['PORT']\n",
    "protocol = config['PROTOCOL']"
   ],
   "metadata": {
    "collapsed": false
   }
  },
  {
   "cell_type": "markdown",
   "source": [
    "### Grab the Data!"
   ],
   "metadata": {
    "collapsed": false
   }
  },
  {
   "cell_type": "code",
   "execution_count": null,
   "outputs": [],
   "source": [
    "obj_db2 = db2connection(\n",
    "    database=database,\n",
    "    host=host,\n",
    "    port=port,\n",
    "    protocol=protocol,\n",
    "    uid='<YOU_MSK_ID>',\n",
    "    pwd='<<PASSWORD>>'\n",
    ")"
   ],
   "metadata": {
    "collapsed": false
   }
  },
  {
   "metadata": {},
   "cell_type": "code",
   "outputs": [],
   "execution_count": null,
   "source": "df = obj_db2.query_ddp(fname_sql=sql_file)"
  },
  {
   "cell_type": "markdown",
   "source": [
    "### What's in the frame?"
   ],
   "metadata": {
    "collapsed": false
   }
  },
  {
   "cell_type": "code",
   "execution_count": null,
   "outputs": [],
   "source": [
    "# Query data\n",
    "print(df.shape)\n",
    "df.head()"
   ],
   "metadata": {
    "collapsed": false
   }
  },
  {
   "cell_type": "code",
   "execution_count": null,
   "outputs": [],
   "source": "",
   "metadata": {
    "collapsed": false
   }
  },
  {
   "cell_type": "code",
   "execution_count": null,
   "outputs": [],
   "source": [],
   "metadata": {
    "collapsed": false
   }
  }
 ],
 "metadata": {
  "kernelspec": {
   "name": "conda-env-cdm",
   "language": "python",
   "display_name": "conda-env-cdm"
  },
  "language_info": {
   "codemirror_mode": {
    "name": "ipython",
    "version": 2
   },
   "file_extension": ".py",
   "mimetype": "text/x-python",
   "name": "python",
   "nbconvert_exporter": "python",
   "pygments_lexer": "ipython2",
   "version": "2.7.6"
  }
 },
 "nbformat": 4,
 "nbformat_minor": 0
}
