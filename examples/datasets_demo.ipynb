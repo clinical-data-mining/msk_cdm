{
 "cells": [
  {
   "metadata": {},
   "cell_type": "markdown",
   "source": [
    "# Datasets Demo Notebook\n",
    "\n",
    "This notebook demonstrates how to access data tables using the `msk_cdm` python package\n",
    "\n",
    "### Data Access\n",
    "Datasets are queried from the MSK Institutional Database. A user is required to create a `MinIO` configuration profile in order to connect to the database.\n",
    "\n",
    "The `connect_to_db` function looks for your configuration file and connects to the server. Before using this notebook, be sure to establish a Minio connection describe in this [page](https://clinical-data-mining.github.io/msk_cdm/reference/user-guide/minio/)."
   ],
   "id": "b99acd9214eb4f3e"
  },
  {
   "metadata": {},
   "cell_type": "markdown",
   "source": [
    "## Using MSK-IMPACT Clinical Datasets\n",
    "\n",
    "Query clinical summary and timeline data shown in cBioPortal using these predefined loading functions. \n",
    "  "
   ],
   "id": "8d129c10e3d450ac"
  },
  {
   "cell_type": "code",
   "id": "5c443a8d76bdd694",
   "metadata": {},
   "source": [
    "from msk_cdm.datasets import connect_to_db\n",
    "from msk_cdm.datasets.impact import load_data_clinical_patient\n"
   ],
   "outputs": [],
   "execution_count": null
  },
  {
   "metadata": {},
   "cell_type": "code",
   "source": [
    "# Connect to the database\n",
    "auth_file = 'path/to/config.txt'\n",
    "connect_to_db(auth_file=auth_file)\n"
   ],
   "id": "bffddcb3aceaab16",
   "outputs": [],
   "execution_count": null
  },
  {
   "metadata": {},
   "cell_type": "code",
   "source": [
    "# Load the dataset\n",
    "df_clinical_patient = load_data_clinical_patient()\n",
    "\n",
    "# Access the data\n",
    "df_clin_p = df_clinical_patient['data']\n"
   ],
   "id": "453923339149bb03",
   "outputs": [],
   "execution_count": null
  },
  {
   "metadata": {
    "collapsed": true
   },
   "cell_type": "code",
   "source": [
    "# Display the first few rows of the data\n",
    "print(df_clin_p.head())\n"
   ],
   "id": "initial_id",
   "outputs": [],
   "execution_count": null
  },
  {
   "metadata": {},
   "cell_type": "markdown",
   "source": [
    "## Use the DatasetLoader to Query Data from Object Storage\n",
    "Datasets are stored in our Minio object storage. These datasets can also be access with the associated pathname.  "
   ],
   "id": "743c1b8901ca8701"
  },
  {
   "cell_type": "code",
   "source": "from msk_cdm.datasets import DatasetLoader\n",
   "metadata": {},
   "id": "e6592a21f6d73e1b",
   "outputs": [],
   "execution_count": null
  },
  {
   "metadata": {},
   "cell_type": "code",
   "source": [
    "# Instantiate the DatasetLoader object and connect using the authorization file\n",
    "loader = DatasetLoader()\n",
    "loader.connect_to_db(auth_file=auth_file)\n",
    "\n"
   ],
   "id": "6e4a6ac89bc31584",
   "outputs": [],
   "execution_count": null
  },
  {
   "metadata": {
    "collapsed": false
   },
   "cell_type": "code",
   "source": [
    "# Define the object storage path of the dataset\n",
    "path_to_object = 'path/to/object/clinical_data.tsv'\n"
   ],
   "id": "f9d3c2e04596a488",
   "outputs": [],
   "execution_count": null
  },
  {
   "cell_type": "code",
   "source": "df_demo1 = loader.load_from_object_path(path_object=path_to_object)",
   "metadata": {
    "collapsed": false
   },
   "id": "85749a3b26615a20",
   "outputs": [],
   "execution_count": null
  },
  {
   "cell_type": "code",
   "source": "df_demo1.head()",
   "metadata": {
    "collapsed": false
   },
   "id": "392c88750a3478e",
   "outputs": [],
   "execution_count": null
  }
 ],
 "metadata": {
  "kernelspec": {
   "name": "conda-env-databricks",
   "language": "python",
   "display_name": "conda-env-databricks"
  },
  "language_info": {
   "codemirror_mode": {
    "name": "ipython",
    "version": 2
   },
   "file_extension": ".py",
   "mimetype": "text/x-python",
   "name": "python",
   "nbconvert_exporter": "python",
   "pygments_lexer": "ipython2",
   "version": "2.7.6"
  }
 },
 "nbformat": 4,
 "nbformat_minor": 5
}
